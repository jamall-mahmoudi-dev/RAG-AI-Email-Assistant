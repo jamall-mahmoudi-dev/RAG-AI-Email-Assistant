{
 "cells": [
  {
   "cell_type": "code",
   "execution_count": null,
   "id": "5bf7421f",
   "metadata": {},
   "outputs": [],
   "source": [
    "from rag_pipeline import generate_response\n",
    "\n",
    "emails = [\n",
    "    \"Client complaint: The report was delayed.\",\n",
    "    \"Request: Can we reschedule the meeting to next week?\",\n",
    "    \"Feedback: Your service was excellent, thank you!\"\n",
    "]\n",
    "\n",
    "for email in emails:\n",
    "    print(\"Email:\", email)\n",
    "    print(\"AI Response:\", generate_response(email))\n",
    "    print(\"-\" * 50)\n"
   ]
  },
  {
   "cell_type": "code",
   "execution_count": null,
   "id": "2543e0af",
   "metadata": {
    "vscode": {
     "languageId": "plaintext"
    }
   },
   "outputs": [],
   "source": []
  }
 ],
 "metadata": {
  "language_info": {
   "name": "python"
  }
 },
 "nbformat": 4,
 "nbformat_minor": 5
}
